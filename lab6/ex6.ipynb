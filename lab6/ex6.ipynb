{
 "cells": [
  {
   "cell_type": "markdown",
   "metadata": {},
   "source": [
    "# Laboratory 6"
   ]
  },
  {
   "cell_type": "markdown",
   "metadata": {},
   "source": [
    "## Exercise 5\n",
    "The number of particles emitted by a radioactive source during a fixed interval of time ($\\Delta t = 10\\text{s}$) follows a Poisson distribution on the parameter µ. The number of particles observed during consecutive time intervals is: $4, 1, 3, 1$ and $3$."
   ]
  },
  {
   "cell_type": "markdown",
   "metadata": {},
   "source": [
    "### a) Suppose a uniform prior distribution for the parameter $\\mu$ \n",
    "- determine and draw the posterior distribution for $\\mu$, given the data\n",
    "- evaluate mean, median and variance, both analytically and numerically in R"
   ]
  },
  {
   "cell_type": "code",
   "execution_count": 2,
   "metadata": {},
   "outputs": [],
   "source": [
    "normalized <- function(f,a,b){\n",
    "    c <- integrate(f,a,b)$value\n",
    "    n_f <- function(x){f(x)/c}\n",
    "    return(n_f)\n",
    "}\n",
    "\n",
    "prior <- function(x){1}\n",
    "# The product of poisson distributions becomes a gamma function:\n",
    "likelihood <- function(data,x){dgamma(x,sum(data)+1,length(data))}\n",
    "\n",
    "posterior <- function(prior,likelihood)\n",
    "    \n",
    "}\n"
   ]
  },
  {
   "cell_type": "code",
   "execution_count": 6,
   "metadata": {},
   "outputs": [
    {
     "ename": "ERROR",
     "evalue": "Error in eval(expr, envir, enclos): object 'normalized' not found\n",
     "output_type": "error",
     "traceback": [
      "Error in eval(expr, envir, enclos): object 'normalized' not found\nTraceback:\n"
     ]
    }
   ],
   "source": [
    "normalized"
   ]
  },
  {
   "cell_type": "code",
   "execution_count": null,
   "metadata": {},
   "outputs": [],
   "source": []
  }
 ],
 "metadata": {
  "kernelspec": {
   "display_name": "R",
   "name": "ir"
  },
  "language_info": {
   "codemirror_mode": "r",
   "file_extension": ".r",
   "mimetype": "text/x-r-source",
   "name": "R",
   "pygments_lexer": "r",
   "version": "3.6.3"
  },
  "orig_nbformat": 2
 },
 "nbformat": 4,
 "nbformat_minor": 2
}