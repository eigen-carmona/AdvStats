{
 "cells": [
  {
   "cell_type": "markdown",
   "metadata": {},
   "source": [
    "# Laboratory Session 7"
   ]
  },
  {
   "cell_type": "markdown",
   "metadata": {},
   "source": [
    "## Exercise 1\n",
    "- a well established and diffused method for detecting a disease in blood fails to detect the presence of disease in $15\\%$ of the patients that actually have the disease.\n",
    "- A young UniPD startUp has developed an innovative method of screening. During the qualification phase, a random sample of $n = 75$ patients known to have the disease is screened using the new method."
   ]
  },
  {
   "cell_type": "markdown",
   "metadata": {},
   "source": [
    "###  a) what is the probability distribution of y, the number of times the new method fails to detect the disease?"
   ]
  },
  {
   "cell_type": "code",
   "execution_count": 1,
   "metadata": {},
   "outputs": [],
   "source": [
    "# This follows a binomial distribution with p = 0.15\n",
    "d_n_fails <- function(y,n){dbinom(y,n,0.15)}"
   ]
  },
  {
   "cell_type": "markdown",
   "metadata": {},
   "source": [
    "### b) on the n = 75 patients sample, the new method fails to detect the disease in y = 6 cases. What is the frequentist estimator of the failure probability of the new method?"
   ]
  },
  {
   "cell_type": "code",
   "execution_count": 5,
   "metadata": {},
   "outputs": [],
   "source": [
    "y <- 6\n",
    "n <- 75\n",
    "# The frequentist estimator of the failure probability is p <- y/n, because we are working with a binomial distribution.\n",
    "p_F <- function(y,n) y/n"
   ]
  },
  {
   "cell_type": "markdown",
   "metadata": {},
   "source": [
    "### c) setup a bayesian computation of the posterior probability, assuming a beta distribution with mean value 0.15 and standard deviation 0.14. Plot the posterior distribution for y, and mark on the plot the mean value and variance\n",
    "$$\n",
    "\\mu = \\frac{\\alpha}{\\alpha+\\beta}\\\\\n",
    "\\sigma^2=\\frac{\\alpha\\beta}{(\\alpha+\\beta)^2(\\alpha+\\beta+1)}\\\\\n",
    "\\alpha+\\beta = \\frac{\\alpha}{\\mu}\\\\\n",
    "\\sigma^2=\\frac{\\alpha\\beta\\mu^2}{\\alpha^2(\\alpha+\\beta+1)}\\\\\n",
    "\\sigma^2=\\frac{\\beta\\mu^2}{\\alpha+\\alpha\\beta+\\alpha^2}\\\\\n",
    "\\alpha^2+\\alpha(1+\\beta)-\\frac{\\beta\\mu^2}{\\sigma^2}=0\\\\\n",
    "\\alpha^2+\\alpha+\\left(\\alpha-\\frac{\\mu^2}{\\sigma^2}\\right)\\beta=0\\\\\n",
    "\\beta= \\frac{\\alpha^2+\\alpha}{\\mu^2-\\sigma^2\\alpha}\\sigma^2\\\\\n",
    "\\mu=\\frac{\\alpha(\\mu^2-\\sigma^2\\alpha)}{\\alpha(\\mu^2-\\sigma^2\\alpha)+(\\alpha^2+\\alpha)\\sigma^2}\\\\\n",
    "\\mu=\\frac{\\alpha\\mu^2-\\sigma^2\\alpha^2}{\\alpha\\mu^2+\\alpha\\sigma^2}\\\\\n",
    "\\frac{\\mu^2-\\mu^3-\\mu\\sigma^2}{\\sigma^2}=\\alpha\\\\\n",
    "$$\n"
   ]
  },
  {
   "cell_type": "code",
   "execution_count": 11,
   "metadata": {},
   "outputs": [
    {
     "data": {
      "image/png": "[encoded data removed]",
      "text/plain": [
       "plot without title"
      ]
     },
     "metadata": {
      "image/png": {
       "height": 420,
       "width": 420
      }
     },
     "output_type": "display_data"
    }
   ],
   "source": [
    "mu <- 0.15\n",
    "sig <- 0.14\n",
    "a <- (mu**2-mu**3-mu*sig**2)/sig**2\n",
    "b <- sig**2*(a**2+a)/(mu**2-sig**2*a)\n",
    "# Since beta is the conjugate distribution for a binomial likelihood,\n",
    "# we use a' = a + y, b' = b + n - y for the posterior average. \n",
    "p_B <- function(y,n) {(a + y)/(a + y + b + n - y)}\n",
    "x <- 1:75\n",
    "\n",
    "# Posterior distribution\n",
    "post <- function(x) {dbeta(x,y + a,b + n - y)}\n",
    "plot(post)"
   ]
  },
  {
   "cell_type": "markdown",
   "metadata": {},
   "source": [
    "### d) Perform a test of hypothesis assuming that if the probability of failing to the detect the desease in ill patients is greater or equal than 15%, the new test is no better that the traditional method. Test the sample at a 5% level of significance in the Bayesian way.\n",
    "<span style=\"color:blue\">sample *blue* text for answers</span>"
   ]
  },
  {
   "cell_type": "code",
   "execution_count": 14,
   "metadata": {},
   "outputs": [
    {
     "data": {
      "text/html": [
       "0.0312793302979552"
      ],
      "text/latex": [
       "0.0312793302979552"
      ],
      "text/markdown": [
       "0.0312793302979552"
      ],
      "text/plain": [
       "[1] 0.03127933"
      ]
     },
     "metadata": {},
     "output_type": "display_data"
    }
   ],
   "source": [
    "# g is the significance of the test:\n",
    "# the probability of a type I error, \n",
    "#i. e. the patient is actually ill and the test fails to show it.\n",
    "\n",
    "# The null hypothesis is that g >= 0.15. \n",
    "# Therefore, if g >= 0.15 with p > 0.5,\n",
    "# we cannot reject the null hypothesis.\n",
    "alph <- integrate(post, 0.15,1)$value\n",
    "alph # Is this lower than 5%?"
   ]
  },
  {
   "cell_type": "markdown",
   "metadata": {},
   "source": [
    "### e) Perform the same hypothesis test in the classical frequentist way."
   ]
  },
  {
   "cell_type": "code",
   "execution_count": null,
   "metadata": {},
   "outputs": [],
   "source": []
  },
  {
   "cell_type": "markdown",
   "metadata": {},
   "source": [
    "## Exercise 2\n",
    "- Ladislaus Josephovich Bortkiewicz was a Russian economist and statistician. He noted that the Poisson distribution can be very useful in applied statistics when describing low-frequency events in a large population. In a famous example he showed that the number of deaths by horse kick among the Prussian army follows the Poisson distribution.\n",
    "- Considering the following two sets of observations taken over a fixed large time interval in two different corps:\n",
    "\n",
    "| $y$ death soldiers | $0$   | $1$  | $2$  | $3$  | $4$ | $\\ge 5$ |\n",
    "|------------------|-----|----|----|----|---|-------|\n",
    "| $n_1$ observations | $109$ | $65$ | $22$ | $3$  | $1$ | $0$     |\n",
    "| $n_2$ observations | $144$ | $91$ | $32$ | $11$ | $2$ | $0$     |"
   ]
  },
  {
   "cell_type": "markdown",
   "metadata": {},
   "source": [
    "### a) assuming a uniform prior, compute and plot the posterior distribution for λ, the death rate over the measurement time. Determine the posterior mean, median and variance, and compute the 95% credibility interval."
   ]
  },
  {
   "cell_type": "code",
   "execution_count": 96,
   "metadata": {},
   "outputs": [],
   "source": [
    "deaths <- 0:4\n",
    "n_1 <- c(109,65,22,3,1)\n",
    "n_2 <- c(144,91,32,11,2)\n",
    "\n",
    "prior <- dunif\n",
    "\n",
    "log.likelihood <- function(lambda, ns){\n",
    "    summy <- 0\n",
    "    for(i in 1:length(deaths)){\n",
    "        summy <- summy + ns[i]*log(dpois(deaths[i],lambda))\n",
    "    }\n",
    "    return(summy)\n",
    "}\n",
    "\n",
    "lam_post <- function(ns){\n",
    "    pre <- function(x){exp(log.likelihood(x, ns))}\n",
    "    c <- 1/integrate(pre, 0, 10)$value\n",
    "    post <- function(x){c*pre(x)}\n",
    "    return(post)\n",
    "}\n",
    "\n",
    "post_1 <- lam_post(n_1)\n",
    "post_2 <- lam_post(n_2)\n",
    "post_N <- lam_post(n_1 + n_2)\n"
   ]
  },
  {
   "cell_type": "code",
   "execution_count": 126,
   "metadata": {},
   "outputs": [
    {
     "data": {
      "image/png": "[encoded data removed]",
      "text/plain": [
       "plot without title"
      ]
     },
     "metadata": {
      "image/png": {
       "height": 420,
       "width": 420
      }
     },
     "output_type": "display_data"
    }
   ],
   "source": [
    "y <- seq(0,1,0.01)\n",
    "plot(y,post_N(y), type = 'l')"
   ]
  },
  {
   "cell_type": "markdown",
   "metadata": {},
   "source": [
    "### b) assuming now a Jeffreys’ prior, $g(\\lambda) \\propto 1/\\sqrt{\\lambda},\\ \\lambda > 0$, compute and plot the posterior distribution for λ, the death rate over the measurement time. Determine the posterior mean, median and variance, and compute the 95% credibility interval."
   ]
  },
  {
   "cell_type": "code",
   "execution_count": null,
   "metadata": {},
   "outputs": [],
   "source": []
  },
  {
   "cell_type": "markdown",
   "metadata": {},
   "source": [
    "## Exercise 3\n",
    "- A study on water quality of streams, a high level of bacter X was defined as a level greater than 100 per 100 ml of stream water. n = 116 samples were taken from streams having a high environmental impact on pandas. Out of these, y = 11 had a high bacter X level.\n",
    "- indicating with p the probability that a sample of water taken from the stream has a high bacter X level,"
   ]
  },
  {
   "cell_type": "markdown",
   "metadata": {},
   "source": [
    "### a) find the frequentist estimator for p"
   ]
  },
  {
   "cell_type": "code",
   "execution_count": null,
   "metadata": {},
   "outputs": [],
   "source": []
  },
  {
   "cell_type": "markdown",
   "metadata": {},
   "source": [
    "### b)  using a $\\text{Beta}(1, 10)$ prior for $p$, calculate and posterior distribution $P(p|y)$"
   ]
  },
  {
   "cell_type": "code",
   "execution_count": null,
   "metadata": {},
   "outputs": [],
   "source": []
  },
  {
   "cell_type": "markdown",
   "metadata": {},
   "source": [
    "### c) find the bayesian estimator for p, the posterior mean and variance, and a 95% credible interval"
   ]
  },
  {
   "cell_type": "code",
   "execution_count": null,
   "metadata": {},
   "outputs": [],
   "source": []
  },
  {
   "cell_type": "markdown",
   "metadata": {},
   "source": [
    "### d) test the hypotesis $$\\begin{align} H_0 : p = 0.1\\ \\text{versus}\\ H_1 : p \\ne 0.1\\end{align}$$ at 5% level of significance with both the frequentist and bayesian approach"
   ]
  },
  {
   "cell_type": "code",
   "execution_count": null,
   "metadata": {},
   "outputs": [],
   "source": []
  },
  {
   "cell_type": "markdown",
   "metadata": {},
   "source": [
    "- a new measurement, performed one month later on n = 165 water samples, gives y = 9 high bacter X level"
   ]
  },
  {
   "cell_type": "markdown",
   "metadata": {},
   "source": [
    "### e) find the frequentist estimator for p"
   ]
  },
  {
   "cell_type": "code",
   "execution_count": null,
   "metadata": {},
   "outputs": [],
   "source": []
  },
  {
   "cell_type": "markdown",
   "metadata": {},
   "source": [
    "### f) find a bayesian estimator for p, assuming both a Beta(1, 10) prior for p, and assuming the posterior probability of the older measurement as the prior for the new one."
   ]
  },
  {
   "cell_type": "code",
   "execution_count": null,
   "metadata": {},
   "outputs": [],
   "source": []
  },
  {
   "cell_type": "markdown",
   "metadata": {},
   "source": [
    "### g) find the bayesian estimator for p, the posterior mean and variance, and a 95% credible interval"
   ]
  },
  {
   "cell_type": "code",
   "execution_count": null,
   "metadata": {},
   "outputs": [],
   "source": []
  },
  {
   "cell_type": "markdown",
   "metadata": {},
   "source": [
    "### h) test the hypotesis $$\\begin{align} H_0 : p = 0.1\\ \\text{versus}\\ H_1 : p \\ne 0.1\\end{align}$$ at 5% level of significance with both the frequentist and bayesian approach"
   ]
  },
  {
   "cell_type": "code",
   "execution_count": null,
   "metadata": {},
   "outputs": [],
   "source": []
  },
  {
   "cell_type": "code",
   "execution_count": null,
   "metadata": {},
   "outputs": [],
   "source": []
  },
  {
   "cell_type": "code",
   "execution_count": null,
   "metadata": {},
   "outputs": [],
   "source": []
  },
  {
   "cell_type": "code",
   "execution_count": null,
   "metadata": {},
   "outputs": [],
   "source": []
  },
  {
   "cell_type": "code",
   "execution_count": null,
   "metadata": {},
   "outputs": [],
   "source": []
  },
  {
   "cell_type": "code",
   "execution_count": null,
   "metadata": {},
   "outputs": [],
   "source": []
  }
 ],
 "metadata": {
  "kernelspec": {
   "display_name": "R",
   "language": "R",
   "name": "ir"
  },
  "language_info": {
   "codemirror_mode": "r",
   "file_extension": ".r",
   "mimetype": "text/x-r-source",
   "name": "R",
   "pygments_lexer": "r",
   "version": "3.6.3"
  }
 },
 "nbformat": 4,
 "nbformat_minor": 4
}
